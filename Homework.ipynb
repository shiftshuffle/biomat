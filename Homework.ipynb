{
 "cells": [
  {
   "cell_type": "markdown",
   "metadata": {},
   "source": [
    "## Tarea 1"
   ]
  },
  {
   "cell_type": "markdown",
   "metadata": {},
   "source": [
    "2.\n",
    "\n",
    "$\\dot{x}=\\widehat{k}(a_{0}-x)(b_{0}-x)$\n",
    "\n",
    "$\\int \\frac{dx}{(a_{0}-x)(b_{0}-x)}= \\int \\widehat{k} dt$\n",
    "\n",
    "$ \\int (\\frac{A}{(a_{0}-x)}+\\frac{B}{(b_{0}-x)}=\\frac{1}{(a_{0}-x)(b_{0}-x)})dx =\\widehat{k}t+C $\n",
    "    \n",
    "$ \\int (\\frac{A(b_{0}-x)+B(a_{0}-x)}{(a_{0}-x)(b_{0}-x)}=\\frac{1}{(a_{0}-x)(b_{0}-x)})dx =\\widehat{k}t+C $\n",
    "\n",
    "$ \\int (\\frac{Ab_{0}+Ba_{0}-(A+B)x}{(a_{0}-x)(b_{0}-x)}=\\frac{1}{(a_{0}-x)(b_{0}-x)})dx =\\widehat{k}t+C $\n",
    "\n",
    "\\begin{cases}\n",
    "    A+B=0   &  \\\\\n",
    "    \\therefore & \\\\\n",
    "     B=-A & \n",
    "    \\end{cases}\n",
    "\n",
    "$ \\int (\\frac{A(b_{0}-a_{0})}{(a_{0}-x)(b_{0}-x)}=\\frac{1}{(a_{0}-x)(b_{0}-x)})dx =\\widehat{k}t+C $\n",
    "\n",
    "\\begin{cases}\n",
    "    A=\\frac{1}{(b_{0}-a_{0})}   &  \\\\\n",
    "    \\therefore & \\\\\n",
    "     B=\\frac{1}{(a_{0}-b_{0})} & \n",
    "    \\end{cases}\n",
    "\n",
    "\n",
    "$ \\int (\\frac{A}{(a_{0}-x)}+\\frac{B}{(b_{0}-x)})dx =\\widehat{k}t+C $\n",
    "\n",
    "$ \\int \\frac{\\frac{1}{(b_{0}-a_{0})}}{(a_{0}-x)}dx + \\int \\frac{\\frac{1}{(a_{0}-b_{0})}}{(b_{0}-x)}dx =\\widehat{k}t+C $\n",
    "\n",
    "$ \\int \\frac{1}{a_{0}b_{0}-a_{0}^2+x(a_{0}-b_{0})}dx + \\int \\frac{1}{a_{0}b_{0}-b_{0}^2+x(b_{0}-a_{0})}dx =\\widehat{k}t+C $\n",
    "\n",
    "\\begin{cases}\n",
    "    u= a_{0}b_{0}-a_{0}^2+x(a_{0}-b_{0})  &  \\\\\n",
    "    \\therefore & \\\\\n",
    "     du=(a_{0}-b_{0}) dx & \n",
    "    \\end{cases}\n",
    "    \n",
    "\\begin{cases}\n",
    "    v= a_{0}b_{0}-b_{0}^2+x(b_{0}-a_{0})  &  \\\\\n",
    "    \\therefore & \\\\\n",
    "     dv=(b_{0}-a_{0}) dx & \n",
    "    \\end{cases}\n",
    "\n",
    "$ \\frac{1}{(a_{0}-b_{0})} \\int \\frac{1}{u}du +  \\frac{1}{(b_{0}-a_{0})} \\int \\frac{1}{v}dv =\\widehat{k}t+C $\n",
    "\n",
    "$\\frac{ln(a_{0}b_{0}-a_{0}^2+x(a_{0}-b_{0}))}{(a_{0}-b_{0})}+\\frac{ln(a_{0}b_{0}-b_{0}^2+x(b_{0}-a_{0}))}{(b_{0}-a_{0})}=\\widehat{k}t+C $\n",
    "\n",
    "\n"
   ]
  },
  {
   "cell_type": "markdown",
   "metadata": {},
   "source": [
    "[changement](http://www.gecif.net/articles/mathematiques/integrale/)"
   ]
  },
  {
   "cell_type": "code",
   "execution_count": 1,
   "metadata": {
    "collapsed": false
   },
   "outputs": [
    {
     "data": {
      "text/html": [
       "<link href='http://fonts.googleapis.com/css?family=Alegreya+Sans:100,300,400,500,700,800,900,100italic,300italic,400italic,500italic,700italic,800italic,900italic' rel='stylesheet' type='text/css'>\n",
       "<link href='http://fonts.googleapis.com/css?family=Arvo:400,700,400italic' rel='stylesheet' type='text/css'>\n",
       "<link href='http://fonts.googleapis.com/css?family=PT+Mono' rel='stylesheet' type='text/css'>\n",
       "<link href='http://fonts.googleapis.com/css?family=Shadows+Into+Light' rel='stylesheet' type='text/css'>\n",
       "<link href='http://fonts.googleapis.com/css?family=Nixie+One' rel='stylesheet' type='text/css'>\n",
       "<style>\n",
       "\n",
       "/* Formatting for header cells */\n",
       ".text_cell_render h1 {\n",
       "    font-family: 'Nixie One', serif;\n",
       "    font-style:regular;\n",
       "    font-weight: 400;    \n",
       "    font-size: 45pt;\n",
       "    line-height: 100%;\n",
       "    color: rgb(0,51,102);\n",
       "    margin-bottom: 0.5em;\n",
       "    margin-top: 0.5em;\n",
       "    display: block;\n",
       "}\n",
       "\n",
       ".text_cell_render h2 {\n",
       "    font-family: 'Nixie One', serif;\n",
       "    font-weight: 400;\n",
       "    font-size: 30pt;\n",
       "    line-height: 100%;\n",
       "    color: rgb(0,51,102);\n",
       "    margin-bottom: 0.1em;\n",
       "    margin-top: 0.3em;\n",
       "    display: block;\n",
       "}\t\n",
       "\n",
       ".text_cell_render h3 {\n",
       "    font-family: 'Nixie One', serif;\n",
       "    margin-top:16px;\n",
       "    font-size: 22pt;\n",
       "    font-weight: 600;\n",
       "    margin-bottom: 3px;\n",
       "    font-style: regular;\n",
       "    color: rgb(102,102,0);\n",
       "}\n",
       "\n",
       ".text_cell_render h4 {    /*Use this for captions*/\n",
       "    font-family: 'Nixie One', serif;\n",
       "    font-size: 14pt;\n",
       "    text-align: center;\n",
       "    margin-top: 0em;\n",
       "    margin-bottom: 2em;\n",
       "    font-style: regular;\n",
       "}\n",
       "\n",
       ".text_cell_render h5 {  /*Use this for small titles*/\n",
       "    font-family: 'Nixie One', sans-serif;\n",
       "    font-weight: 400;\n",
       "    font-size: 16pt;\n",
       "    color: rgb(163,0,0);\n",
       "    font-style: italic;\n",
       "    margin-bottom: .1em;\n",
       "    margin-top: 0.8em;\n",
       "    display: block;\n",
       "}\n",
       "\n",
       ".text_cell_render h6 { /*use this for copyright note*/\n",
       "    font-family: 'PT Mono', sans-serif;\n",
       "    font-weight: 300;\n",
       "    font-size: 9pt;\n",
       "    line-height: 100%;\n",
       "    color: grey;\n",
       "    margin-bottom: 1px;\n",
       "    margin-top: 1px;\n",
       "}\n"
      ],
      "text/plain": [
       "<IPython.core.display.HTML object>"
      ]
     },
     "execution_count": 1,
     "metadata": {},
     "output_type": "execute_result"
    }
   ],
   "source": [
    "from IPython.core.display import HTML\n",
    "css_file = 'style.css'\n",
    "HTML(open(css_file, \"r\").read())"
   ]
  }
 ],
 "metadata": {
  "kernelspec": {
   "display_name": "Python 3",
   "language": "python",
   "name": "python3"
  },
  "language_info": {
   "codemirror_mode": {
    "name": "ipython",
    "version": 3
   },
   "file_extension": ".py",
   "mimetype": "text/x-python",
   "name": "python",
   "nbconvert_exporter": "python",
   "pygments_lexer": "ipython3",
   "version": "3.4.0"
  }
 },
 "nbformat": 4,
 "nbformat_minor": 0
}
