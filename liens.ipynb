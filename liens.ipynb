{
 "cells": [
  {
   "cell_type": "markdown",
   "metadata": {},
   "source": [
    "* [biodiversity](https://www.cs.unm.edu/~forrest/classes/cs365/readings/feldman-rock-scissors-paper.pdf)\n",
    "* [spatial model](http://www.math.umaine.edu/~hiebeler/papers/durrett-levin-94b.pdf)\n",
    "* [being discrete](http://www.math.umaine.edu/~hiebeler/papers/durrett-levin-94.pdf)\n",
    "* [modelisation des resaux](http://download2.cerimes.fr/canalu/documents/fuscia/mod.lisation.math.matique.en.biologie.quand.les.g.nes.jouent.la.montre.1.re.partie_12694/ropers.informatiqueaulycee.pdf)\n",
    "* [glycolisis oscillations](http://www.medicine.mcgill.ca/physio/mackeylab/courses_mackey/pdf_files/selkov-68.pdf)\n",
    "* [glycolisis](http://homepages.ulb.ac.be/~dgonze/TEACHING/glycolysis.pdf)\n",
    "* [systems biology overview](https://www.andrew.cmu.edu/course/42-620/handouts/Kitano_02_01.pdf)\n",
    "* [modeles biologiques evolution](http://kimura.univ-montp2.fr/~rousset/FerdyDR10.pdf)\n",
    "* [programmation bio-mathematique](http://2009.igem.org/wiki/images/b/b0/Summary_chap5-8.pdf)\n",
    "* [-ome](http://www.readcube.com/articles/10.1038%2F494416a)\n",
    "* [cordyceps militaris](http://www.genomebiology.com/content/pdf/gb-2011-12-11-r116.pdf)\n",
    "* [reseaux biologiques](http://pbil.univ-lyon1.fr/members/mbailly/C1_reseaux.pdf)\n",
    "* [modeles bioinformatiques](http://www.cnrs.fr/comitenational/doc/rapport/2010/43_conj_2010.pdf)\n",
    "* [zombi parasites](http://illuzone.net/video-zombie-parasites/)\n",
    "* [programmation mathematique](http://perso.esiee.fr/~talboth/ESIEE/IF4-ALG2/pdf/poly_optim_2009.pdf)\n",
    "* [wright fisher](http://dornsife.usc.edu/assets/sites/406/docs/505b/MATH505b_Project_Report_HailongCui_WangshuZhang.pdf)\n",
    "* [wright fisher coalescent](http://archimede.mat.ulaval.ca/theses/JH-Smith-Lacroix_05.pdf)\n",
    "* [coalescent](http://www.stats.ox.ac.uk/~didelot/popgen/Chapter3.pdf)\n",
    "* [chemotaxis](http://www.isn.ucsd.edu/courses/Beng221/problems/2012/BENG221_Project%20-%20Roberts%20Chung%20Yu%20Li.pdf)\n",
    "* []()\n"
   ]
  }
 ],
 "metadata": {
  "kernelspec": {
   "display_name": "Python 2",
   "language": "python",
   "name": "python2"
  },
  "language_info": {
   "codemirror_mode": {
    "name": "ipython",
    "version": 2
   },
   "file_extension": ".py",
   "mimetype": "text/x-python",
   "name": "python",
   "nbconvert_exporter": "python",
   "pygments_lexer": "ipython2",
   "version": "2.7.6"
  }
 },
 "nbformat": 4,
 "nbformat_minor": 0
}
